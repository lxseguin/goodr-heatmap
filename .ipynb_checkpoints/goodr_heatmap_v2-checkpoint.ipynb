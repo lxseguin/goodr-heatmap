{
 "cells": [
  {
   "cell_type": "code",
   "execution_count": 1,
   "id": "87d7a7a2",
   "metadata": {
    "scrolled": true
   },
   "outputs": [],
   "source": [
    "#read the data\n",
    "from ipywidgets import interact, interactive, fixed, interact_manual\n",
    "import ipywidgets as widgets\n",
    "import pandas as pd\n",
    "import calplot\n",
    "import numpy as np\n",
    "              \n",
    "df = pd.read_csv('goodr_heatdata_041322.csv', encoding='latin1')\n",
    "#df.shape"
   ]
  },
  {
   "cell_type": "code",
   "execution_count": 2,
   "id": "ee78f786",
   "metadata": {},
   "outputs": [
    {
     "name": "stdout",
     "output_type": "stream",
     "text": [
      "Enabling notebook extension jupyter-js-widgets/extension...\n",
      "      - Validating: \u001b[32mOK\u001b[0m\n",
      "Enabling: voila\n",
      "- Writing config: /opt/homebrew/Caskroom/miniforge/base/envs/heatmap/etc/jupyter\n",
      "    - Validating...\n",
      "      voila 0.3.5 \u001b[32mOK\u001b[0m\n"
     ]
    }
   ],
   "source": [
    "!jupyter nbextension enable --py widgetsnbextension --sys-prefix\n",
    "!jupyter serverextension enable voila --sys-prefix"
   ]
  },
  {
   "cell_type": "code",
   "execution_count": 3,
   "id": "104b476a",
   "metadata": {
    "scrolled": false
   },
   "outputs": [],
   "source": [
    "#change the type of data\n",
    "df['Date'] = pd.to_datetime(df['DATE'])\n",
    "#Set orderdate as index\n",
    "df.set_index('Date', inplace = True)\n",
    "df = df.drop(['DATE'], axis=1)\n",
    "#print(df.columns.tolist())"
   ]
  },
  {
   "cell_type": "code",
   "execution_count": 4,
   "id": "14037d03",
   "metadata": {
    "scrolled": true
   },
   "outputs": [],
   "source": [
    "flocks = df.columns.values.tolist()"
   ]
  },
  {
   "cell_type": "code",
   "execution_count": 5,
   "id": "5af98fda",
   "metadata": {},
   "outputs": [],
   "source": [
    "facecolor = '#e0e0e0'\n",
    "subplot_kws = dict(facecolor=facecolor)\n",
    "fig_kws = dict(facecolor=facecolor)"
   ]
  },
  {
   "cell_type": "code",
   "execution_count": 6,
   "id": "2dd00c71",
   "metadata": {
    "scrolled": false
   },
   "outputs": [],
   "source": [
    "def drawPlot(flock):\n",
    "    pl1 = calplot.calplot(data = df[flock],\n",
    "                          how = 'mean', \n",
    "                          cmap = 'YlOrBr', \n",
    "                          figsize = (32, 5), \n",
    "                          suptitle = flock + ' Heatmap 2022',\n",
    "                          vmin = 0,\n",
    "                          vmax = 2,\n",
    "                          dropzero = False,\n",
    "                          fillcolor = 'black',\n",
    "                          edgecolor ='black',\n",
    "                          linewidth = 2,\n",
    "                          subplot_kws = subplot_kws,\n",
    "                          fig_kws = fig_kws)"
   ]
  },
  {
   "cell_type": "code",
   "execution_count": 7,
   "id": "c708360e",
   "metadata": {
    "scrolled": false
   },
   "outputs": [
    {
     "data": {
      "application/vnd.jupyter.widget-view+json": {
       "model_id": "f3b9430c00294926894fc64fe93e27f1",
       "version_major": 2,
       "version_minor": 0
      },
      "text/plain": [
       "interactive(children=(Dropdown(description='Flock', index=4, options=('AMP', 'GOODRSTOCK', 'PDA', 'TWC', 'Tota…"
      ]
     },
     "metadata": {},
     "output_type": "display_data"
    }
   ],
   "source": [
    "x = interact(drawPlot, flock = widgets.Dropdown(\n",
    "    options=flocks,\n",
    "    value='Total',\n",
    "    description='Flock',\n",
    "    disabled=False,\n",
    "))"
   ]
  },
  {
   "cell_type": "code",
   "execution_count": 8,
   "id": "3250d454",
   "metadata": {
    "scrolled": true
   },
   "outputs": [],
   "source": [
    "!pip freeze > requirements.txt"
   ]
  },
  {
   "cell_type": "code",
   "execution_count": null,
   "id": "d30a75a0",
   "metadata": {},
   "outputs": [],
   "source": []
  }
 ],
 "metadata": {
  "kernelspec": {
   "display_name": "Python 3 (ipykernel)",
   "language": "python",
   "name": "python3"
  },
  "language_info": {
   "codemirror_mode": {
    "name": "ipython",
    "version": 3
   },
   "file_extension": ".py",
   "mimetype": "text/x-python",
   "name": "python",
   "nbconvert_exporter": "python",
   "pygments_lexer": "ipython3",
   "version": "3.10.4"
  }
 },
 "nbformat": 4,
 "nbformat_minor": 5
}
